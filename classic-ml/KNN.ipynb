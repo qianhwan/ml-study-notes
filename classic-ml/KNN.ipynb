{
 "cells": [
  {
   "cell_type": "markdown",
   "metadata": {},
   "source": [
    "# k-Nearest Neighbors (KNN) algorithm\n",
    "\n",
    "* KNN algorithm can be used for both classification and regression problems, we talk about KNN classification algorithm first.\n",
    "\n",
    "## What is it\n",
    "\n",
    "* Given a set of labeled data and a new data sample without label, find *k* pieces of data in the labeled dataset that are nearest to the new data point. The take a majority vote from the *k* labels which is the predicted label of the new data sample.\n",
    "\n",
    "#### Input\n",
    "1. a labeled dataset ***A***\n",
    "2. a unlabeled data sample ***x***\n",
    "3. value ***k***\n",
    "\n",
    "#### Output\n",
    "1. the majority label from the ***k*** samples that are nearest to ***x***\n",
    "\n",
    "## How does it work\n",
    "\n",
    "* Given a dataset ***A*** with ***n*** samples and ***m*** features (***A*** has shape ***n***\\****m***) and a new sample ***x***, we calculate the distance (e.g. Euclidian distance). Find the ***k*** nearest neighbors to ***x*** and use the majority label as label for ***x***."
   ]
  },
  {
   "cell_type": "code",
   "execution_count": 4,
   "metadata": {},
   "outputs": [],
   "source": [
    "import numpy as np\n",
    "from typing import List\n",
    "\n",
    "def knn(x: np.array,\n",
    "        dataset_x: np.array,\n",
    "        dataset_y: List[int],\n",
    "        k: int) -> int:\n",
    "    '''\n",
    "    knn classification algorithm\n",
    "    \n",
    "    :param np.array x: data sample to label, shape (1, m), m is number of features\n",
    "    :param np.array dataset_x: dataset A, shape (n, m), n is number of samples\n",
    "    :param List[int] dataset_y: labels from A, a list of length n\n",
    "    :param int k: value k, defines the number of nearest neighbors to find\n",
    "    :return: label of x\n",
    "    '''\n",
    "    num_samples = dataset_x.shape[0]\n",
    "    # calculate euclidian distance in matrix form\n",
    "    # 1. first calculate the difference\n",
    "    # np.repeat(x, num_samples, axis=0) will repeat x in num_samples rows\n",
    "    diffs = np.repeat(x, num_samples, axis=0) - dataset_x\n",
    "    # 2. calculate square difference\n",
    "    square_diffs = diffs ** 2\n",
    "    # 3. sum up square difference per sample\n",
    "    square_distances = square_diffs.sum(axis=1)\n",
    "    # 4, take the square root which is euclidian distance\n",
    "    distances = square_distances ** 0.5\n",
    "    \n",
    "    # sort distance from small to large\n",
    "    sorted_index = distances.argsort()\n",
    "    label_votes = {}\n",
    "    for i in range(k):\n",
    "        label = dataset_y[sorted_index[i]]\n",
    "        label_votes[label] = label_votes.get(label, 0) + 1\n",
    "    sorted_label_votes = [k for k, v in sorted(label_votes.items(),\n",
    "                                               key=lambda item: item[1])]\n",
    "    return sorted_label_votes[0]"
   ]
  },
  {
   "cell_type": "markdown",
   "metadata": {},
   "source": [
    "## Simple example"
   ]
  },
  {
   "cell_type": "code",
   "execution_count": 5,
   "metadata": {},
   "outputs": [],
   "source": [
    "def create_toy_dataset():\n",
    "    \"\"\"\n",
    "    create a toy dataset\n",
    "    \"\"\"\n",
    "    dataset = np.array([[1.0, 1.1], [1.0, 1.0], [0, 0], [0, 0.1]])\n",
    "    labels = ['A', 'A', 'B', 'B']\n",
    "    return dataset, labels"
   ]
  },
  {
   "cell_type": "code",
   "execution_count": 6,
   "metadata": {},
   "outputs": [
    {
     "data": {
      "image/png": "[encoded data removed]",
      "text/plain": [
       "<Figure size 432x288 with 1 Axes>"
      ]
     },
     "metadata": {
      "needs_background": "light"
     },
     "output_type": "display_data"
    }
   ],
   "source": [
    "import matplotlib.pyplot as plt\n",
    "\n",
    "dataset, labels = create_toy_dataset()\n",
    "'''\n",
    "dataset\n",
    "array([[1. , 1.1],\n",
    "       [1. , 1. ],\n",
    "       [0. , 0. ],\n",
    "       [0. , 0.1]])\n",
    "       \n",
    "labels\n",
    "['A', 'A', 'B', 'B']\n",
    "'''\n",
    "# convert string labels to integer\n",
    "from sklearn.preprocessing import LabelEncoder  \n",
    "\n",
    "le = LabelEncoder()\n",
    "dataset_y = le.fit_transform(labels)\n",
    "\n",
    "# data visulization\n",
    "fig = plt.scatter(dataset[:, 0], dataset[:, 1])"
   ]
  },
  {
   "cell_type": "code",
   "execution_count": 7,
   "metadata": {},
   "outputs": [
    {
     "name": "stdout",
     "output_type": "stream",
     "text": [
      "['A']\n"
     ]
    }
   ],
   "source": [
    "# classify data point [0.1, 0.1]\n",
    "label = knn(np.array([[0.1, 0.1]]), dataset, dataset_y, 3)\n",
    "print(le.inverse_transform([label]))"
   ]
  },
  {
   "cell_type": "markdown",
   "metadata": {},
   "source": [
    "## Practical example\n",
    "\n",
    "digits classification"
   ]
  },
  {
   "cell_type": "code",
   "execution_count": 12,
   "metadata": {},
   "outputs": [
    {
     "name": "stdout",
     "output_type": "stream",
     "text": [
      "(1797, 64)\n"
     ]
    },
    {
     "data": {
      "text/plain": [
       "<Figure size 432x288 with 0 Axes>"
      ]
     },
     "metadata": {},
     "output_type": "display_data"
    },
    {
     "data": {
      "image/png": "[encoded data removed]",
      "text/plain": [
       "<Figure size 288x288 with 1 Axes>"
      ]
     },
     "metadata": {
      "needs_background": "light"
     },
     "output_type": "display_data"
    }
   ],
   "source": [
    "from sklearn.datasets import load_digits\n",
    "digits = load_digits()\n",
    "print(digits.data.shape)\n",
    "\n",
    "plt.gray() \n",
    "plt.matshow(digits.images[0]) \n",
    "plt.show() "
   ]
  },
  {
   "cell_type": "code",
   "execution_count": 23,
   "metadata": {},
   "outputs": [],
   "source": [
    "dataset_x = digits.data[:-5]  # (1792, 64)\n",
    "dataset_y = digits.target[:-5]  # (1792, )\n",
    "test_x = digits.data[-5:]  #  (5, 64)\n",
    "test_y = digits.target[-5:]  #  (5, )"
   ]
  },
  {
   "cell_type": "code",
   "execution_count": 34,
   "metadata": {},
   "outputs": [
    {
     "name": "stdout",
     "output_type": "stream",
     "text": [
      "groud truth: 9, prediction: 9\n",
      "groud truth: 0, prediction: 0\n",
      "groud truth: 8, prediction: 8\n",
      "groud truth: 9, prediction: 9\n",
      "groud truth: 8, prediction: 8\n"
     ]
    }
   ],
   "source": [
    "for i, x in enumerate(test_x):\n",
    "    pred = knn([x], dataset_x, dataset_y, 3)\n",
    "    print('groud truth: %d, prediction: %d' % (test_y[i], pred))"
   ]
  },
  {
   "cell_type": "code",
   "execution_count": 35,
   "metadata": {},
   "outputs": [
    {
     "name": "stdout",
     "output_type": "stream",
     "text": [
      "groud truth: 9, prediction: 9\n",
      "groud truth: 0, prediction: 0\n",
      "groud truth: 8, prediction: 8\n",
      "groud truth: 9, prediction: 9\n",
      "groud truth: 8, prediction: 8\n"
     ]
    }
   ],
   "source": [
    "# compare with sklearn knn\n",
    "from sklearn.neighbors import KNeighborsClassifier\n",
    "\n",
    "neigh = KNeighborsClassifier(n_neighbors=3)\n",
    "neigh.fit(dataset_x, dataset_y)\n",
    "\n",
    "for i, x in enumerate(test_x):\n",
    "    pred = neigh.predict([x])\n",
    "    print('groud truth: %d, prediction: %d' % (test_y[i], pred))"
   ]
  }
 ],
 "metadata": {
  "kernelspec": {
   "display_name": "Python 3",
   "language": "python",
   "name": "python3"
  },
  "language_info": {
   "codemirror_mode": {
    "name": "ipython",
    "version": 3
   },
   "file_extension": ".py",
   "mimetype": "text/x-python",
   "name": "python",
   "nbconvert_exporter": "python",
   "pygments_lexer": "ipython3",
   "version": "3.7.2"
  }
 },
 "nbformat": 4,
 "nbformat_minor": 4
}
