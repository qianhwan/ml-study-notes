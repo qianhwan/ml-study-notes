{
 "cells": [
  {
   "cell_type": "markdown",
   "metadata": {},
   "source": [
    "# Naive Bayes\n",
    "\n",
    "## What is it\n",
    "\n",
    "* Unlike KNN and Decision Trees classification algorithms that give a hard decision of which class does a sample belong to, instead Naive Bayes algorithm gives a probability of the sample belongs to a class. Naive Bayes is based on Bayes theory where we calculate the probabilities of ***x*** belongs to each class, and choose the one with the highest probability. The word \"Naive\" indicates the assumption that each feature is independent.\n",
    "\n",
    "#### Input\n",
    "1. A labeled dataset ***A***.\n",
    "2. An unlabeled datas sample ***x***.\n",
    "\n",
    "#### Output\n",
    "1. Probabilities of ***x*** belongs to each class.\n",
    "\n",
    "## How does it work\n",
    "* We use the chain rule to calculate the probability of ***x*** belongs to a class ***c_i***:\n",
    "\n",
    "    ***p(c_i|x)*** = ***p(x|c_i)p(c_i) / p(x)***\n",
    "    \n",
    "    and because of the independence assumption, ***p(x|c_i)*** is equal to ***p(x_0|c_i)p(x_1|c_i)...p(x_n|c_i)***, which equals to:\n",
    "    \n",
    "    ***log(p(x_0|c_i)) + log(p(x_1|c_i)) + ... + log(p(x_n|c_i))***\n",
    "    \n",
    "    Since ***p(x)*** is the same for all classes, we only need to calculate ***p(x|c_i)p(c_i)***."
   ]
  },
  {
   "cell_type": "code",
   "execution_count": 13,
   "metadata": {},
   "outputs": [],
   "source": [
    "import numpy as np\n",
    "\n",
    "def train_naive_bayes(one_hot_matrix, labels):\n",
    "    '''\n",
    "    A simple binary classification\n",
    "    '''\n",
    "    # number of documents (samples)\n",
    "    num_docs = len(one_hot_matrix)\n",
    "    # number of vocabulary\n",
    "    num_vocab = len(one_hot_matrix[0])\n",
    "    # p(c_1), since binary, p(c_0) = 1 - p(c_1)\n",
    "    p1 = sum(labels) / num_docs\n",
    "\n",
    "    # word counts of class 0\n",
    "    num_p0 = np.ones(num_vocab)  # [0,0......] -> [1,1.....]\n",
    "    # word counts of class 1\n",
    "    num_p1 = np.ones(num_vocab)\n",
    "\n",
    "    #  total number of words in each class\n",
    "    denom_p0 = 2.0  # 2 is to avoid 0\n",
    "    denom_p1 = 2.0  # 2 is to avoid 0\n",
    "    for i in range(num_docs):\n",
    "        if labels[i] == 1:\n",
    "            # if belongs to class 1\n",
    "            # add word counts\n",
    "            num_p1 += one_hot_matrix[i]\n",
    "            # sum total number of words\n",
    "            denom_p1 += sum(one_hot_matrix[i])\n",
    "        else:\n",
    "            # if belongs to class 0\n",
    "            num_p0 += one_hot_matrix[i]\n",
    "            denom_p0 += sum(one_hot_matrix[i])\n",
    "    # class 1，[log(p(x_0|c_1)),log(p(x_1|c_1)),...]\n",
    "    p1_vect = np.log(num_p1 / denom_p1)\n",
    "    # class 0，[log(p(x_0|c_0)),log(p(x_1|c_0)),...]\n",
    "    p0_vect = np.log(num_p0 / denom_p0)\n",
    "    return p0_vect, p1_vect, p1"
   ]
  },
  {
   "cell_type": "code",
   "execution_count": 22,
   "metadata": {},
   "outputs": [],
   "source": [
    "def classify_naive_bayes(data_vect, p0_vect, p1_vect, p1):\n",
    "    \"\"\"\n",
    "    使用算法: \n",
    "        # 将乘法转换为加法\n",
    "        multiplication: p(c_i|x) = p(x|c_i)p(c_i)/p(x)\n",
    "        addition: p(x_0|c_i)*p(x_1|c_i)*...*p(c_i) -> log(p(x_0|c_i)))+log(p(x_1|c_i))+....+log(p(ci))\n",
    "    :param data_vect: one-hot vector to classify\n",
    "    :param p0_vect: [log(p(x_0|c_0)),log(p(x_1|c_0)),...] for class 0\n",
    "    :param p1_vect: [log(p(x_0|c_1)),log(p(x_1|c_1)),...] for class 1\n",
    "    :param p1: probability of class 1\n",
    "    \"\"\"\n",
    "    # why data_vect * p1_vect\n",
    "    # p1_vect contains the log probability of each word in vocabulary that belongs in class 1 documents\n",
    "    # and data_vect is a one-hot vector, where words that are not in data_vect are represented as 0\n",
    "    # while words that are there are represented by 1.\n",
    "    # by multiply them together, we get the log probability of each word in data_vect\n",
    "    p1 = sum(data_vect * p1_vect) + np.log(p1) \n",
    "    p0 = sum(data_vect * p0_vect) + np.log(1 - p1) \n",
    "    if p1 > p0:\n",
    "        return 1\n",
    "    else:\n",
    "        return 0"
   ]
  },
  {
   "cell_type": "markdown",
   "metadata": {},
   "source": [
    "## Simple example"
   ]
  },
  {
   "cell_type": "code",
   "execution_count": 23,
   "metadata": {},
   "outputs": [],
   "source": [
    "def create_dataset():\n",
    "    dataset_x = [['my', 'dog', 'has', 'flea',\n",
    "                  'problems', 'help', 'please'],\n",
    "                 ['maybe', 'not', 'take', 'him',\n",
    "                  'to', 'dog', 'park', 'stupid'],\n",
    "                 ['my', 'dalmation', 'is', 'so', 'cute',\n",
    "                  'I', 'love', 'him'],\n",
    "                 ['stop', 'posting', 'stupid', 'worthless', 'garbage'],\n",
    "                 ['mr', 'licks', 'ate', 'my', 'steak', 'how',\n",
    "                  'to', 'stop', 'him'],\n",
    "                 ['quit', 'buying', 'worthless', 'dog', 'food', 'stupid']]\n",
    "    dataset_y = [0, 1, 0, 1, 0, 1]  #1 is abusive, 0 not\n",
    "    return dataset_x, dataset_y\n",
    "\n",
    "def get_vocabulary(dataset_x):\n",
    "    '''\n",
    "    Create unique vocabulary list\n",
    "    '''\n",
    "    vocab = set()\n",
    "    for doc in dataset_x:\n",
    "        vocab = vocab | set(doc)\n",
    "    return list(vocab)\n",
    "\n",
    "def words_to_one_hot(vocab: list, sentence: list):\n",
    "    '''\n",
    "    Create one-hot encodings for sentence\n",
    "    '''\n",
    "    one_hot= [0 for x in vocab]\n",
    "    for word in sentence:\n",
    "        if word in vocab:\n",
    "            one_hot[vocab.index(word)] = 1\n",
    "        else:\n",
    "            print('OOV: %s' % word)\n",
    "    return one_hot"
   ]
  },
  {
   "cell_type": "code",
   "execution_count": 24,
   "metadata": {},
   "outputs": [
    {
     "data": {
      "text/plain": [
       "[['my', 'dog', 'has', 'flea', 'problems', 'help', 'please'],\n",
       " ['maybe', 'not', 'take', 'him', 'to', 'dog', 'park', 'stupid'],\n",
       " ['my', 'dalmation', 'is', 'so', 'cute', 'I', 'love', 'him'],\n",
       " ['stop', 'posting', 'stupid', 'worthless', 'garbage'],\n",
       " ['mr', 'licks', 'ate', 'my', 'steak', 'how', 'to', 'stop', 'him'],\n",
       " ['quit', 'buying', 'worthless', 'dog', 'food', 'stupid']]"
      ]
     },
     "execution_count": 24,
     "metadata": {},
     "output_type": "execute_result"
    }
   ],
   "source": [
    "dataset_x, dataset_y = create_dataset()\n",
    "dataset_x"
   ]
  },
  {
   "cell_type": "code",
   "execution_count": 25,
   "metadata": {},
   "outputs": [
    {
     "data": {
      "text/plain": [
       "['problems',\n",
       " 'mr',\n",
       " 'flea',\n",
       " 'ate',\n",
       " 'has',\n",
       " 'so',\n",
       " 'dog',\n",
       " 'my',\n",
       " 'is',\n",
       " 'worthless',\n",
       " 'licks',\n",
       " 'food',\n",
       " 'please',\n",
       " 'stupid',\n",
       " 'help',\n",
       " 'to',\n",
       " 'cute',\n",
       " 'him',\n",
       " 'stop',\n",
       " 'take',\n",
       " 'maybe',\n",
       " 'steak',\n",
       " 'how',\n",
       " 'I',\n",
       " 'not',\n",
       " 'love',\n",
       " 'posting',\n",
       " 'park',\n",
       " 'garbage',\n",
       " 'dalmation',\n",
       " 'quit',\n",
       " 'buying']"
      ]
     },
     "execution_count": 25,
     "metadata": {},
     "output_type": "execute_result"
    }
   ],
   "source": [
    "vocabulary = get_vocabulary(dataset_x)\n",
    "vocabulary"
   ]
  },
  {
   "cell_type": "code",
   "execution_count": 26,
   "metadata": {},
   "outputs": [
    {
     "data": {
      "text/plain": [
       "[1,\n",
       " 0,\n",
       " 1,\n",
       " 0,\n",
       " 1,\n",
       " 0,\n",
       " 1,\n",
       " 1,\n",
       " 0,\n",
       " 0,\n",
       " 0,\n",
       " 0,\n",
       " 1,\n",
       " 0,\n",
       " 1,\n",
       " 0,\n",
       " 0,\n",
       " 0,\n",
       " 0,\n",
       " 0,\n",
       " 0,\n",
       " 0,\n",
       " 0,\n",
       " 0,\n",
       " 0,\n",
       " 0,\n",
       " 0,\n",
       " 0,\n",
       " 0,\n",
       " 0,\n",
       " 0,\n",
       " 0]"
      ]
     },
     "execution_count": 26,
     "metadata": {},
     "output_type": "execute_result"
    }
   ],
   "source": [
    "one_hot_vectors = []\n",
    "for doc in dataset_x:\n",
    "    one_hot_vectors.append(words_to_one_hot(vocabulary, doc))\n",
    "one_hot_vectors[0]"
   ]
  },
  {
   "cell_type": "code",
   "execution_count": 27,
   "metadata": {},
   "outputs": [
    {
     "name": "stdout",
     "output_type": "stream",
     "text": [
      "[-2.56494936 -2.56494936 -2.56494936 -2.56494936 -2.56494936 -2.56494936\n",
      " -2.56494936 -1.87180218 -2.56494936 -3.25809654 -2.56494936 -3.25809654\n",
      " -2.56494936 -3.25809654 -2.56494936 -2.56494936 -2.56494936 -2.15948425\n",
      " -2.56494936 -3.25809654 -3.25809654 -2.56494936 -2.56494936 -2.56494936\n",
      " -3.25809654 -2.56494936 -3.25809654 -3.25809654 -3.25809654 -2.56494936\n",
      " -3.25809654 -3.25809654] [-3.04452244 -3.04452244 -3.04452244 -3.04452244 -3.04452244 -3.04452244\n",
      " -1.94591015 -3.04452244 -3.04452244 -1.94591015 -3.04452244 -2.35137526\n",
      " -3.04452244 -1.65822808 -3.04452244 -2.35137526 -3.04452244 -2.35137526\n",
      " -2.35137526 -2.35137526 -2.35137526 -3.04452244 -3.04452244 -3.04452244\n",
      " -2.35137526 -3.04452244 -2.35137526 -2.35137526 -2.35137526 -3.04452244\n",
      " -2.35137526 -2.35137526] 0.5\n"
     ]
    }
   ],
   "source": [
    "p0_vect, p1_vect, p1 = train_naive_bayes(np.array(one_hot_vectors),\n",
    "                                         np.array(dataset_y))\n",
    "print(p0_vect, p1_vect, p1)"
   ]
  },
  {
   "cell_type": "code",
   "execution_count": 28,
   "metadata": {},
   "outputs": [
    {
     "name": "stdout",
     "output_type": "stream",
     "text": [
      "['love', 'my', 'dalmation'] classified as:  0\n",
      "['stupid', 'garbage'] classified as:  1\n"
     ]
    }
   ],
   "source": [
    "test_sample = ['love', 'my', 'dalmation']\n",
    "test_one_hot = np.array(words_to_one_hot(vocabulary, test_sample))\n",
    "print(test_sample, 'classified as: ',\n",
    "      classify_naive_bayes(test_one_hot, p0_vect, p1_vect, p1))\n",
    "test_sample = ['stupid', 'garbage']\n",
    "test_one_hot = np.array(words_to_one_hot(vocabulary, test_sample))\n",
    "print(test_sample, 'classified as: ',\n",
    "      classify_naive_bayes(test_one_hot, p0_vect, p1_vect, p1))"
   ]
  },
  {
   "cell_type": "code",
   "execution_count": null,
   "metadata": {},
   "outputs": [],
   "source": []
  }
 ],
 "metadata": {
  "kernelspec": {
   "display_name": "Python 3",
   "language": "python",
   "name": "python3"
  },
  "language_info": {
   "codemirror_mode": {
    "name": "ipython",
    "version": 3
   },
   "file_extension": ".py",
   "mimetype": "text/x-python",
   "name": "python",
   "nbconvert_exporter": "python",
   "pygments_lexer": "ipython3",
   "version": "3.7.2"
  }
 },
 "nbformat": 4,
 "nbformat_minor": 4
}
